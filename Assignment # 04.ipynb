{
 "cells": [
  {
   "cell_type": "code",
   "execution_count": 2,
   "id": "48dcb5e0",
   "metadata": {},
   "outputs": [
    {
     "name": "stdout",
     "output_type": "stream",
     "text": [
      "Please choose your operator adding(+) subtracting(-) multiplying(*) didviding(/) for power(**)\n",
      "Enter your first digit: 1\n",
      "Enter your operator: +\n",
      "Enter your first digit: 2\n",
      "1 + 2 = \n",
      "3\n",
      "You were adding.\n",
      "\n"
     ]
    }
   ],
   "source": [
    "#1. Make a calculator using Python with addition , subtraction , multiplication ,division and power.\n",
    "# define the function\n",
    "def calculate():\n",
    "    print(\"Please choose your operator adding(+) subtracting(-) multiplying(*) didviding(/) for power(**)\")\n",
    "\n",
    "    number_1 = int(input(\"Enter your first digit: \"))\n",
    "    operation = input(\"Enter your operator: \")\n",
    "    number_2 = int(input(\"Enter your first digit: \"))\n",
    "\n",
    "\n",
    "# adding\n",
    "    if operation == '+':\n",
    "        print('{} + {} = '.format(number_1, number_2))\n",
    "        print(number_1 + number_2)\n",
    "        print(\"You were adding.\\n\")\n",
    "\n",
    "# subtracting\n",
    "    elif operation == '-':\n",
    "        print('{} - {} = '.format(number_1, number_2))\n",
    "        print(number_1 - number_2)\n",
    "        print(\"You were subtracting.\\n\")\n",
    "    \n",
    "# mulitplaying\n",
    "    elif operation == '*':\n",
    "        print('{} * {} = '.format(number_1, number_2))\n",
    "        print(number_1 * number_2)\n",
    "        print(\"You were mulitplaying.\")\n",
    "        \n",
    "# dividing\n",
    "    elif operation == '/':\n",
    "        print('{} / {} = '.format(number_1, number_2))\n",
    "        print(number_1 / number_2)\n",
    "        print(\"You were dividing.\\n\")\n",
    "\n",
    "# for power\n",
    "    elif operation == '**':\n",
    "        print('{} ** {} = '.format(number_1, number_2))\n",
    "        print(number_1 ** number_2)\n",
    "        print(\"You were using for power.\\n\")\n",
    "        \n",
    "# if they get a error\n",
    "    else:\n",
    "        print(\" number you have typed is invalid\")\n",
    "        \n",
    "calculate()"
   ]
  },
  {
   "cell_type": "code",
   "execution_count": 4,
   "id": "cd48a41d",
   "metadata": {},
   "outputs": [
    {
     "name": "stdout",
     "output_type": "stream",
     "text": [
      "5\n",
      "4\n",
      "7\n"
     ]
    }
   ],
   "source": [
    "#2. Write a program to check if there is any numeric value in list using for loop.\n",
    "list = [\"abc\",5, \"def\", 4, \"ghi\",7] \n",
    "for x in list: \n",
    "    if type(x) == int: \n",
    "        print(x)"
   ]
  },
  {
   "cell_type": "code",
   "execution_count": 7,
   "id": "4840d9a2",
   "metadata": {},
   "outputs": [
    {
     "name": "stdout",
     "output_type": "stream",
     "text": [
      "{'a': 10, 'b': 20}\n",
      "{'a': 10, 'b': 20, 'c': 30}\n"
     ]
    }
   ],
   "source": [
    "#3. Write a Python script to add a key to a dictionary.\n",
    "d = {\"a\":10, \"b\":20}\n",
    "print(d)\n",
    "d.update({\"c\":30})\n",
    "print(d)"
   ]
  },
  {
   "cell_type": "code",
   "execution_count": 8,
   "id": "4b4d7e78",
   "metadata": {},
   "outputs": [
    {
     "name": "stdout",
     "output_type": "stream",
     "text": [
      "401\n"
     ]
    }
   ],
   "source": [
    "#4. Write a Python program to sum all the numeric items in a dictionary.\n",
    "my_dict = {'data1':100,'data2':54,'data3':247}\n",
    "print(sum(my_dict.values()))"
   ]
  },
  {
   "cell_type": "code",
   "execution_count": 9,
   "id": "1fa425fd",
   "metadata": {},
   "outputs": [
    {
     "name": "stdout",
     "output_type": "stream",
     "text": [
      "2 3 4 5 "
     ]
    }
   ],
   "source": [
    "#5. Write a program to identify duplicate values from list.\n",
    "lst=[1,2,3,4,5,2,3,4,7,9,5]\n",
    "lst1=[]\n",
    "for i in lst:\n",
    "    if i not in lst1:\n",
    "        lst1.append(i)\n",
    "    else:\n",
    "        print(i,end=' ')"
   ]
  },
  {
   "cell_type": "code",
   "execution_count": 11,
   "id": "6b018577",
   "metadata": {},
   "outputs": [
    {
     "name": "stdout",
     "output_type": "stream",
     "text": [
      "enter the key to checkc\n",
      "Exists\n"
     ]
    }
   ],
   "source": [
    "#6. Write a Python script to check if a given key already exists in a dictionary\n",
    "dict_1 = str(input(\"enter the key to check\"))\n",
    "dict_2 = {\"a\": 1, \"b\":2, \"c\":3}\n",
    "if dict_1 in dict_2:\n",
    "    print(\"Exists\")\n",
    "else:\n",
    "    print(\"Does not exist\")"
   ]
  },
  {
   "cell_type": "code",
   "execution_count": null,
   "id": "2c205302",
   "metadata": {},
   "outputs": [],
   "source": []
  }
 ],
 "metadata": {
  "kernelspec": {
   "display_name": "Python 3",
   "language": "python",
   "name": "python3"
  },
  "language_info": {
   "codemirror_mode": {
    "name": "ipython",
    "version": 3
   },
   "file_extension": ".py",
   "mimetype": "text/x-python",
   "name": "python",
   "nbconvert_exporter": "python",
   "pygments_lexer": "ipython3",
   "version": "3.8.8"
  }
 },
 "nbformat": 4,
 "nbformat_minor": 5
}
