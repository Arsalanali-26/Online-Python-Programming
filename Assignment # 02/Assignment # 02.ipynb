{
 "cells": [
  {
   "cell_type": "code",
   "execution_count": 4,
   "id": "61f8f360",
   "metadata": {},
   "outputs": [
    {
     "name": "stdout",
     "output_type": "stream",
     "text": [
      "Your percentage is  62.0\n",
      "Grade B\n"
     ]
    }
   ],
   "source": [
    "english = 66;\n",
    "maths = 65;\n",
    "isl = 55;\n",
    "marks_obd = english + maths + isl;\n",
    "total_marks = 300;\n",
    "percentage = marks_obd / total_marks * 100;\n",
    "print(\"Your percentage is \", percentage);\n",
    "\n",
    "if percentage > 80 and percentage < 100:\n",
    "    print(\"Grade A+\");\n",
    "elif percentage < 80 and percentage > 70:\n",
    "    print(\"Grade A\");\n",
    "elif percentage < 70 and percentage > 60:\n",
    "    print(\"Grade B\")\n",
    "elif percentage < 60 and percentage > 50:\n",
    "     print(\"Grade C\");\n",
    "elif percentage < 50 and percentage > 40:\n",
    "     print(\"Grade D\");\n",
    "\n",
    "else:\n",
    "    print(\"Fail\")\n"
   ]
  },
  {
   "cell_type": "code",
   "execution_count": null,
   "id": "e8da935b",
   "metadata": {},
   "outputs": [],
   "source": []
  }
 ],
 "metadata": {
  "kernelspec": {
   "display_name": "Python 3",
   "language": "python",
   "name": "python3"
  },
  "language_info": {
   "codemirror_mode": {
    "name": "ipython",
    "version": 3
   },
   "file_extension": ".py",
   "mimetype": "text/x-python",
   "name": "python",
   "nbconvert_exporter": "python",
   "pygments_lexer": "ipython3",
   "version": "3.8.8"
  }
 },
 "nbformat": 4,
 "nbformat_minor": 5
}
